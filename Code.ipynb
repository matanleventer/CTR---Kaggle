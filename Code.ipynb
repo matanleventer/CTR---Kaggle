{
  "cells": [
    {
      "cell_type": "markdown",
      "source": [
        "**Matan Leventer - 208447029**\n",
        "\n",
        "**Din Ezra - 206065989**\n",
        "\n",
        "**Guy Yutal - 308013861**"
      ],
      "metadata": {
        "id": "Fda2xLATOIPw"
      }
    },
    {
      "cell_type": "code",
      "source": [
        "!pip install catboost"
      ],
      "metadata": {
        "colab": {
          "base_uri": "https://localhost:8080/"
        },
        "id": "n1fzNla8rpPI",
        "outputId": "6370a5d5-83dc-41e9-e400-d40296dd2d9e"
      },
      "execution_count": null,
      "outputs": [
        {
          "output_type": "stream",
          "name": "stdout",
          "text": [
            "Requirement already satisfied: catboost in /usr/local/lib/python3.10/dist-packages (1.2.2)\n",
            "Requirement already satisfied: graphviz in /usr/local/lib/python3.10/dist-packages (from catboost) (0.20.1)\n",
            "Requirement already satisfied: matplotlib in /usr/local/lib/python3.10/dist-packages (from catboost) (3.7.1)\n",
            "Requirement already satisfied: numpy>=1.16.0 in /usr/local/lib/python3.10/dist-packages (from catboost) (1.25.2)\n",
            "Requirement already satisfied: pandas>=0.24 in /usr/local/lib/python3.10/dist-packages (from catboost) (1.5.3)\n",
            "Requirement already satisfied: scipy in /usr/local/lib/python3.10/dist-packages (from catboost) (1.11.4)\n",
            "Requirement already satisfied: plotly in /usr/local/lib/python3.10/dist-packages (from catboost) (5.15.0)\n",
            "Requirement already satisfied: six in /usr/local/lib/python3.10/dist-packages (from catboost) (1.16.0)\n",
            "Requirement already satisfied: python-dateutil>=2.8.1 in /usr/local/lib/python3.10/dist-packages (from pandas>=0.24->catboost) (2.8.2)\n",
            "Requirement already satisfied: pytz>=2020.1 in /usr/local/lib/python3.10/dist-packages (from pandas>=0.24->catboost) (2023.4)\n",
            "Requirement already satisfied: contourpy>=1.0.1 in /usr/local/lib/python3.10/dist-packages (from matplotlib->catboost) (1.2.0)\n",
            "Requirement already satisfied: cycler>=0.10 in /usr/local/lib/python3.10/dist-packages (from matplotlib->catboost) (0.12.1)\n",
            "Requirement already satisfied: fonttools>=4.22.0 in /usr/local/lib/python3.10/dist-packages (from matplotlib->catboost) (4.48.1)\n",
            "Requirement already satisfied: kiwisolver>=1.0.1 in /usr/local/lib/python3.10/dist-packages (from matplotlib->catboost) (1.4.5)\n",
            "Requirement already satisfied: packaging>=20.0 in /usr/local/lib/python3.10/dist-packages (from matplotlib->catboost) (23.2)\n",
            "Requirement already satisfied: pillow>=6.2.0 in /usr/local/lib/python3.10/dist-packages (from matplotlib->catboost) (9.4.0)\n",
            "Requirement already satisfied: pyparsing>=2.3.1 in /usr/local/lib/python3.10/dist-packages (from matplotlib->catboost) (3.1.1)\n",
            "Requirement already satisfied: tenacity>=6.2.0 in /usr/local/lib/python3.10/dist-packages (from plotly->catboost) (8.2.3)\n"
          ]
        }
      ]
    },
    {
      "cell_type": "code",
      "source": [
        "import pickle\n",
        "from catboost import CatBoostClassifier\n",
        "from xgboost import XGBClassifier\n",
        "from sklearn.preprocessing import StandardScaler\n",
        "import xgboost as xgb\n",
        "import lightgbm as lgb\n",
        "\n",
        "from sklearn.feature_extraction import DictVectorizer\n",
        "from sklearn.model_selection import train_test_split\n",
        "from sklearn.metrics import accuracy_score\n",
        "import torch\n",
        "from torch.utils.data import Dataset, DataLoader\n",
        "from torch.utils.data import random_split\n",
        "from sklearn.metrics import roc_auc_score\n",
        "from sklearn.preprocessing import StandardScaler\n",
        "from scipy.sparse import csr_matrix\n",
        "from sklearn.preprocessing import StandardScaler\n",
        "import os\n",
        "import numpy as np\n",
        "import pandas as pd\n",
        "import torch.nn as nn\n",
        "import torch.optim as optim\n",
        "from sklearn.preprocessing import MinMaxScaler,LabelEncoder\n",
        "import matplotlib.pyplot as plt\n",
        "import seaborn as sns\n",
        "import torch\n",
        "from scipy.stats import zscore\n"
      ],
      "metadata": {
        "id": "Q0QOOY4CjByn"
      },
      "execution_count": null,
      "outputs": []
    },
    {
      "cell_type": "code",
      "source": [
        "# see more details in the course first lecture\n",
        "!mkdir /root/.kaggle/\n",
        "import json\n",
        "import os\n",
        "\n",
        "# Installing the Kaggle package\n",
        "!pip install kaggle\n",
        "\n",
        "#Important Note: complete this with your own key - after running this for the first time remmember to **remove** your API_KEY\n",
        "api_token = {\"username\":\"matanleventer\",\"key\":\"b8b0b970f31143ccc2f842e4fce4b3b9\"}\n",
        "\n",
        "\n",
        "# creating kaggle.json file with the personal API-Key details\n",
        "# You can also put this file on your Google Drive\n",
        "with open('/root/.kaggle/kaggle.json', 'w') as file:\n",
        "  json.dump(api_token, file)\n",
        "!chmod 600 /root/.kaggle/kaggle.json"
      ],
      "metadata": {
        "colab": {
          "base_uri": "https://localhost:8080/"
        },
        "id": "PIdRT2Ofi2AO",
        "outputId": "59cb76f7-961c-4987-a3ce-cb76b939ad4a"
      },
      "execution_count": null,
      "outputs": [
        {
          "output_type": "stream",
          "name": "stdout",
          "text": [
            "Requirement already satisfied: kaggle in /usr/local/lib/python3.10/dist-packages (1.5.16)\n",
            "Requirement already satisfied: six>=1.10 in /usr/local/lib/python3.10/dist-packages (from kaggle) (1.16.0)\n",
            "Requirement already satisfied: certifi in /usr/local/lib/python3.10/dist-packages (from kaggle) (2024.2.2)\n",
            "Requirement already satisfied: python-dateutil in /usr/local/lib/python3.10/dist-packages (from kaggle) (2.8.2)\n",
            "Requirement already satisfied: requests in /usr/local/lib/python3.10/dist-packages (from kaggle) (2.31.0)\n",
            "Requirement already satisfied: tqdm in /usr/local/lib/python3.10/dist-packages (from kaggle) (4.66.2)\n",
            "Requirement already satisfied: python-slugify in /usr/local/lib/python3.10/dist-packages (from kaggle) (8.0.4)\n",
            "Requirement already satisfied: urllib3 in /usr/local/lib/python3.10/dist-packages (from kaggle) (2.0.7)\n",
            "Requirement already satisfied: bleach in /usr/local/lib/python3.10/dist-packages (from kaggle) (6.1.0)\n",
            "Requirement already satisfied: webencodings in /usr/local/lib/python3.10/dist-packages (from bleach->kaggle) (0.5.1)\n",
            "Requirement already satisfied: text-unidecode>=1.3 in /usr/local/lib/python3.10/dist-packages (from python-slugify->kaggle) (1.3)\n",
            "Requirement already satisfied: charset-normalizer<4,>=2 in /usr/local/lib/python3.10/dist-packages (from requests->kaggle) (3.3.2)\n",
            "Requirement already satisfied: idna<4,>=2.5 in /usr/local/lib/python3.10/dist-packages (from requests->kaggle) (3.6)\n"
          ]
        }
      ]
    },
    {
      "cell_type": "code",
      "source": [
        "import kaggle\n",
        "!mkdir ./datasets\n",
        "\n",
        "# download the dataset from Kaggle and unzip it\n",
        "# !kaggle datasets download fuzzyfroghunter/dickens -p ./datasets/\n",
        "# !unzip ./datasets/dickens.zip  -d ./datasets/\n",
        "\n",
        "!kaggle competitions download -c recommendation-systems-click-through-rate -p ./datasets/\n",
        "\n",
        "# Make sure to replace 'dickens.zip' with the actual name of the downloaded file\n",
        "!unzip ./datasets/recommendation-systems-click-through-rate.zip -d ./datasets/"
      ],
      "metadata": {
        "colab": {
          "base_uri": "https://localhost:8080/"
        },
        "id": "wtXLkC4Vi1-F",
        "outputId": "102f5bcc-457e-4cb4-91a2-bf2073ca968d"
      },
      "execution_count": null,
      "outputs": [
        {
          "output_type": "stream",
          "name": "stdout",
          "text": [
            "Downloading recommendation-systems-click-through-rate.zip to ./datasets\n",
            "100% 11.7G/11.7G [02:04<00:00, 133MB/s]\n",
            "100% 11.7G/11.7G [02:04<00:00, 101MB/s]\n",
            "Archive:  ./datasets/recommendation-systems-click-through-rate.zip\n",
            "  inflating: ./datasets/Taboola Dataset Notice.docx  \n",
            "  inflating: ./datasets/submission_example.csv  \n",
            "  inflating: ./datasets/test_file.csv  \n",
            "  inflating: ./datasets/train_data/train1/part-00000.csv  \n",
            "  inflating: ./datasets/train_data/train1/part-00001.csv  \n",
            "  inflating: ./datasets/train_data/train1/part-00002.csv  \n",
            "  inflating: ./datasets/train_data/train1/part-00003.csv  \n",
            "  inflating: ./datasets/train_data/train1/part-00004.csv  \n",
            "  inflating: ./datasets/train_data/train1/part-00005.csv  \n",
            "  inflating: ./datasets/train_data/train1/part-00006.csv  \n",
            "  inflating: ./datasets/train_data/train1/part-00007.csv  \n",
            "  inflating: ./datasets/train_data/train1/part-00008.csv  \n",
            "  inflating: ./datasets/train_data/train1/part-00009.csv  \n",
            "  inflating: ./datasets/train_data/train1/part-00010.csv  \n",
            "  inflating: ./datasets/train_data/train2/part-00011.csv  \n",
            "  inflating: ./datasets/train_data/train2/part-00012.csv  \n",
            "  inflating: ./datasets/train_data/train2/part-00013.csv  \n",
            "  inflating: ./datasets/train_data/train2/part-00014.csv  \n",
            "  inflating: ./datasets/train_data/train2/part-00015.csv  \n",
            "  inflating: ./datasets/train_data/train2/part-00016.csv  \n",
            "  inflating: ./datasets/train_data/train2/part-00017.csv  \n",
            "  inflating: ./datasets/train_data/train2/part-00018.csv  \n",
            "  inflating: ./datasets/train_data/train2/part-00019.csv  \n",
            "  inflating: ./datasets/train_data/train2/part-00020.csv  \n",
            "  inflating: ./datasets/train_data/train3/part-00021.csv  \n",
            "  inflating: ./datasets/train_data/train3/part-00022.csv  \n",
            "  inflating: ./datasets/train_data/train3/part-00023.csv  \n",
            "  inflating: ./datasets/train_data/train3/part-00024.csv  \n",
            "  inflating: ./datasets/train_data/train3/part-00025.csv  \n",
            "  inflating: ./datasets/train_data/train3/part-00026.csv  \n",
            "  inflating: ./datasets/train_data/train3/part-00027.csv  \n",
            "  inflating: ./datasets/train_data/train3/part-00028.csv  \n",
            "  inflating: ./datasets/train_data/train3/part-00029.csv  \n",
            "  inflating: ./datasets/train_data/train3/part-00030.csv  \n",
            "  inflating: ./datasets/train_data/train4/part-00031.csv  \n",
            "  inflating: ./datasets/train_data/train4/part-00032.csv  \n",
            "  inflating: ./datasets/train_data/train4/part-00033.csv  \n",
            "  inflating: ./datasets/train_data/train4/part-00034.csv  \n",
            "  inflating: ./datasets/train_data/train4/part-00035.csv  \n",
            "  inflating: ./datasets/train_data/train4/part-00036.csv  \n",
            "  inflating: ./datasets/train_data/train4/part-00037.csv  \n",
            "  inflating: ./datasets/train_data/train4/part-00038.csv  \n",
            "  inflating: ./datasets/train_data/train4/part-00039.csv  \n",
            "  inflating: ./datasets/train_data/train4/part-00040.csv  \n",
            "  inflating: ./datasets/train_data/train5/part-00041.csv  \n",
            "  inflating: ./datasets/train_data/train5/part-00042.csv  \n",
            "  inflating: ./datasets/train_data/train5/part-00043.csv  \n",
            "  inflating: ./datasets/train_data/train5/part-00044.csv  \n",
            "  inflating: ./datasets/train_data/train5/part-00045.csv  \n",
            "  inflating: ./datasets/train_data/train5/part-00046.csv  \n",
            "  inflating: ./datasets/train_data/train5/part-00047.csv  \n",
            "  inflating: ./datasets/train_data/train5/part-00048.csv  \n",
            "  inflating: ./datasets/train_data/train5/part-00049.csv  \n",
            "  inflating: ./datasets/train_data/train5/part-00050.csv  \n",
            "  inflating: ./datasets/train_data/train6/part-00051.csv  \n",
            "  inflating: ./datasets/train_data/train6/part-00052.csv  \n",
            "  inflating: ./datasets/train_data/train6/part-00053.csv  \n",
            "  inflating: ./datasets/train_data/train6/part-00054.csv  \n",
            "  inflating: ./datasets/train_data/train6/part-00055.csv  \n",
            "  inflating: ./datasets/train_data/train6/part-00056.csv  \n",
            "  inflating: ./datasets/train_data/train6/part-00057.csv  \n",
            "  inflating: ./datasets/train_data/train6/part-00058.csv  \n",
            "  inflating: ./datasets/train_data/train6/part-00059.csv  \n",
            "  inflating: ./datasets/train_data/train6/part-00060.csv  \n",
            "  inflating: ./datasets/train_data/train7/part-00061.csv  \n",
            "  inflating: ./datasets/train_data/train7/part-00062.csv  \n",
            "  inflating: ./datasets/train_data/train7/part-00063.csv  \n",
            "  inflating: ./datasets/train_data/train7/part-00064.csv  \n",
            "  inflating: ./datasets/train_data/train7/part-00065.csv  \n",
            "  inflating: ./datasets/train_data/train7/part-00066.csv  \n",
            "  inflating: ./datasets/train_data/train7/part-00067.csv  \n",
            "  inflating: ./datasets/train_data/train7/part-00068.csv  \n"
          ]
        }
      ]
    },
    {
      "cell_type": "code",
      "source": [
        "class CustomDataset(Dataset):\n",
        "    def __init__(self, root_folder):\n",
        "        self.root_folder = root_folder\n",
        "        self.folds = sorted(os.listdir(root_folder))\n",
        "\n",
        "    def __len__(self):\n",
        "        return len(self.folds)\n",
        "\n",
        "\n",
        "\n",
        "    def __getitem__(self, fold_idx):\n",
        "      fold_path = os.path.join(self.root_folder, self.folds[fold_idx])\n",
        "      files = sorted(os.listdir(fold_path))\n",
        "      # files = files[until_csv:until_csv+3]\n",
        "      # Read all CSV files at once\n",
        "      concatenated_data_list = []\n",
        "      r=0\n",
        "      for selected_file in files:\n",
        "        if r<8:\n",
        "          csv_file_path = os.path.join(fold_path, selected_file)\n",
        "          df = pd.read_csv(csv_file_path)\n",
        "          concatenated_data_list.append(df)\n",
        "        else:\n",
        "          break\n",
        "        r+=1\n",
        "\n",
        "\n",
        "\n",
        "      # Concatenate the data from all CSV files\n",
        "      concatenated_data = pd.concat(concatenated_data_list, ignore_index=True)\n",
        "\n",
        "      return concatenated_data\n",
        "\n",
        "def save_model(model, filename):\n",
        "    # Save the model state to a file using pickle\n",
        "    with open(filename, 'wb') as file:\n",
        "        pickle.dump(model, file)\n",
        "\n",
        "def load_model(filename):\n",
        "    # Load the model state from a file using pickle\n",
        "    with open(filename, 'rb') as file:\n",
        "        loaded_model = pickle.load(file)\n",
        "    return loaded_model\n",
        "\n"
      ],
      "metadata": {
        "id": "2O5KAlFsi16h"
      },
      "execution_count": null,
      "outputs": []
    },
    {
      "cell_type": "code",
      "source": [
        "def Graphs(df):\n",
        "  plt.figure(figsize=(70,20))\n",
        "  sns.countplot(x='time_of_day',hue='is_click',data=df)\n",
        "  plt.figure(figsize=(70,20))\n",
        "  sns.countplot(x='gmt_offset',hue='is_click',data=df)\n",
        "  plt.figure(figsize=(70,20))\n",
        "  sns.countplot(x='day_of_week',hue='is_click',data=df)"
      ],
      "metadata": {
        "id": "uNRurlLbr6sF"
      },
      "execution_count": null,
      "outputs": []
    },
    {
      "cell_type": "code",
      "source": [
        "def Corr(df):\n",
        "  corr = df.corr()\n",
        "  f, ax = plt.subplots(figsize=(10,10))\n",
        "  sns.heatmap(corr, ax=ax, annot=True,linewidths=3,cmap='YlGn')\n",
        "  plt.title(\"Pearson correlation of Features\", y=1.05, size=15)"
      ],
      "metadata": {
        "id": "PHO44f4rr6lx"
      },
      "execution_count": null,
      "outputs": []
    },
    {
      "cell_type": "code",
      "source": [
        "def label_hour(hour):\n",
        "    return 'A' if 8 <= hour <= 17 else 'B'\n",
        "\n",
        "def label_day(hour):\n",
        "    return 'A' if 1 <= hour <= 4 else 'B'"
      ],
      "metadata": {
        "id": "2ek7Jv0Ur6iY"
      },
      "execution_count": null,
      "outputs": []
    },
    {
      "cell_type": "code",
      "source": [
        "def distribution_value(df):\n",
        "  for column_name in df.columns:\n",
        "      # Check number of unique values\n",
        "      unique_values = df[column_name].nunique()\n",
        "\n",
        "      # Check value counts\n",
        "      value_counts = df[column_name].value_counts()\n",
        "\n",
        "      print(f'Column: {column_name}')\n",
        "      print(f'Number of unique values: {unique_values}')\n",
        "      print(f'Value counts:\\n{value_counts}\\n')\n"
      ],
      "metadata": {
        "id": "2G584vSZr6dk"
      },
      "execution_count": null,
      "outputs": []
    },
    {
      "cell_type": "code",
      "source": [
        "def drop_col(df):\n",
        "    list_drop = ['Id']\n",
        "    target1 = df['is_click']\n",
        "    target2 = df['Id']\n",
        "\n",
        "    df = df.drop(columns=list_drop)\n",
        "    return df,target1,target2"
      ],
      "metadata": {
        "id": "fHyaEiM9sL9Z"
      },
      "execution_count": null,
      "outputs": []
    },
    {
      "cell_type": "code",
      "source": [
        "def normlize(df):\n",
        "  list_norm = ['page_view_start_time','user_recs','user_clicks','user_target_recs','empiric_calibrated_recs','empiric_clicks','user_recs_per_click']\n",
        "  # list_dummies = ['new_time_of_day','new_day_of_week']\n",
        "  list_drop = ['user_id_hash','gmt_offset']\n",
        "  scaler = StandardScaler()\n",
        "  encoder = LabelEncoder()\n",
        "\n",
        "  categorical_columns = ['target_id_hash', 'syndicator_id_hash', 'campaign_id_hash', 'target_item_taxonomy', 'placement_id_hash', 'publisher_id_hash', 'source_id_hash', 'source_item_type', 'browser_platform', 'os_family', 'country_code', 'region', 'day_of_week', 'time_of_day']\n",
        "\n",
        "\n",
        "  df['region'].fillna('Unknown', inplace=True)\n",
        "  df['country_code'].fillna('Unknown', inplace=True)\n",
        "\n",
        "  # df['time_of_day'] = df['time_of_day'].astype(str)\n",
        "  # df['os_family'] = df['os_family'].astype(str)\n",
        "  # df['day_of_week'] = df['day_of_week'].astype(str)\n",
        "  # df['gmt_offset'] = df['gmt_offset'].astype(str)\n",
        "\n",
        "  df['user_recs_per_click'] = df['user_recs'] / (df['user_clicks'] + 1)\n",
        "\n",
        "  df = df.drop(columns=list_drop)\n",
        "\n",
        "  for col in categorical_columns:\n",
        "    df[col] = df[col].astype('category')\n",
        "\n",
        "  # df = pd.get_dummies(df, columns=list_dummies)\n",
        "  df[list_norm] = scaler.fit_transform(df[list_norm])\n",
        "  return df\n"
      ],
      "metadata": {
        "id": "lijf_3OisL1c"
      },
      "execution_count": null,
      "outputs": []
    },
    {
      "cell_type": "code",
      "source": [
        "def split_dataframe(df,test):\n",
        "  concatenated_data_list = []\n",
        "  concatenated_data = pd.concat([df,test], ignore_index=True)\n",
        "\n",
        "  concatenated_data,target1,target2 = drop_col(concatenated_data)\n",
        "  concatenated_data = normlize(concatenated_data)\n",
        "  first_column = concatenated_data.pop(concatenated_data.columns[0])\n",
        "\n",
        "  concatenated_data.insert(len(concatenated_data.columns), first_column.name, first_column)\n",
        "  df_train= concatenated_data[concatenated_data['is_click'].notna()]\n",
        "  target11= target1.dropna()\n",
        "\n",
        "  df_test = concatenated_data[concatenated_data['is_click'].isna()]\n",
        "\n",
        "  df_train = df_train.drop(columns='is_click')\n",
        "  df_test = df_test.drop(columns='is_click')\n",
        "\n",
        "  return df_train,df_test,target11,"
      ],
      "metadata": {
        "id": "TEHwpfWWsLuu"
      },
      "execution_count": null,
      "outputs": []
    },
    {
      "cell_type": "code",
      "source": [
        "# Graphs(df)"
      ],
      "metadata": {
        "id": "2VAfBh40AUyk"
      },
      "execution_count": null,
      "outputs": []
    },
    {
      "cell_type": "code",
      "source": [
        "# Corr(df)"
      ],
      "metadata": {
        "id": "wrXvYdktAYwr"
      },
      "execution_count": null,
      "outputs": []
    },
    {
      "cell_type": "code",
      "source": [
        "data_root = '/content/datasets/train_data'\n",
        "\n",
        "# # Create an instance of your custom dataset\n",
        "custom_dataset = CustomDataset(root_folder=data_root)\n",
        "\n",
        "df = custom_dataset.__getitem__(0)\n",
        "test = pd.read_csv('/content/datasets/test_file.csv')"
      ],
      "metadata": {
        "id": "kRk1DOx4PIpe"
      },
      "execution_count": null,
      "outputs": []
    },
    {
      "cell_type": "code",
      "source": [
        "X,test,y = split_dataframe(df,test)\n",
        "X_train, X_test, y_train, y_test = train_test_split(X, y, test_size=0.2, random_state=42)"
      ],
      "metadata": {
        "id": "5c0nZT9VPSUs"
      },
      "execution_count": null,
      "outputs": []
    },
    {
      "cell_type": "code",
      "source": [
        "model = CatBoostClassifier(iterations=400, depth=6, learning_rate=0.1, loss_function='Logloss', eval_metric='AUC')\n",
        "\n",
        "cat_features = ['target_id_hash',\n",
        "      'syndicator_id_hash', 'campaign_id_hash','target_item_taxonomy', 'placement_id_hash','publisher_id_hash',\n",
        "      'source_id_hash', 'source_item_type', 'browser_platform','country_code','region',\n",
        "        'os_family','day_of_week','time_of_day']\n",
        "\n",
        "model.fit(X_train, y_train, cat_features=cat_features, eval_set=(X_test, y_test), verbose=10)"
      ],
      "metadata": {
        "colab": {
          "base_uri": "https://localhost:8080/"
        },
        "id": "UdUqMqik22Og",
        "outputId": "477f6202-c377-456c-cc06-5e3fabc8cab8"
      },
      "execution_count": null,
      "outputs": [
        {
          "output_type": "stream",
          "name": "stdout",
          "text": [
            "0:\ttest: 0.8279014\tbest: 0.8279014 (0)\ttotal: 15.9s\tremaining: 1h 45m 52s\n",
            "10:\ttest: 0.8422006\tbest: 0.8422006 (10)\ttotal: 2m 16s\tremaining: 1h 20m 11s\n",
            "20:\ttest: 0.8470976\tbest: 0.8470976 (20)\ttotal: 4m 43s\tremaining: 1h 25m 22s\n",
            "30:\ttest: 0.8491654\tbest: 0.8491654 (30)\ttotal: 6m 58s\tremaining: 1h 23m 1s\n",
            "40:\ttest: 0.8506650\tbest: 0.8506650 (40)\ttotal: 9m 18s\tremaining: 1h 21m 29s\n",
            "50:\ttest: 0.8516922\tbest: 0.8516922 (50)\ttotal: 11m 28s\tremaining: 1h 18m 28s\n",
            "60:\ttest: 0.8523585\tbest: 0.8523585 (60)\ttotal: 13m 42s\tremaining: 1h 16m 11s\n",
            "70:\ttest: 0.8529393\tbest: 0.8529393 (70)\ttotal: 15m 53s\tremaining: 1h 13m 36s\n",
            "80:\ttest: 0.8534231\tbest: 0.8534231 (80)\ttotal: 18m 10s\tremaining: 1h 11m 33s\n",
            "90:\ttest: 0.8537813\tbest: 0.8537813 (90)\ttotal: 20m 35s\tremaining: 1h 9m 55s\n",
            "100:\ttest: 0.8540522\tbest: 0.8540522 (100)\ttotal: 22m 53s\tremaining: 1h 7m 45s\n",
            "110:\ttest: 0.8543431\tbest: 0.8543431 (110)\ttotal: 25m 10s\tremaining: 1h 5m 32s\n",
            "120:\ttest: 0.8545739\tbest: 0.8545739 (120)\ttotal: 27m 26s\tremaining: 1h 3m 15s\n",
            "130:\ttest: 0.8548664\tbest: 0.8548664 (130)\ttotal: 29m 47s\tremaining: 1h 1m 10s\n",
            "140:\ttest: 0.8551061\tbest: 0.8551061 (140)\ttotal: 32m 9s\tremaining: 59m 3s\n",
            "150:\ttest: 0.8552580\tbest: 0.8552580 (150)\ttotal: 34m 36s\tremaining: 57m 3s\n",
            "160:\ttest: 0.8554621\tbest: 0.8554621 (160)\ttotal: 36m 50s\tremaining: 54m 41s\n",
            "170:\ttest: 0.8556318\tbest: 0.8556318 (170)\ttotal: 39m 20s\tremaining: 52m 41s\n",
            "180:\ttest: 0.8558033\tbest: 0.8558033 (180)\ttotal: 41m 44s\tremaining: 50m 29s\n",
            "190:\ttest: 0.8559460\tbest: 0.8559460 (190)\ttotal: 44m 12s\tremaining: 48m 22s\n",
            "200:\ttest: 0.8560906\tbest: 0.8560906 (200)\ttotal: 46m 27s\tremaining: 45m 59s\n",
            "210:\ttest: 0.8562053\tbest: 0.8562053 (210)\ttotal: 48m 54s\tremaining: 43m 48s\n",
            "220:\ttest: 0.8563290\tbest: 0.8563290 (220)\ttotal: 51m 13s\tremaining: 41m 29s\n",
            "230:\ttest: 0.8564754\tbest: 0.8564754 (230)\ttotal: 53m 44s\tremaining: 39m 19s\n",
            "240:\ttest: 0.8565908\tbest: 0.8565908 (240)\ttotal: 56m 6s\tremaining: 37m 1s\n",
            "250:\ttest: 0.8566824\tbest: 0.8566824 (250)\ttotal: 58m 32s\tremaining: 34m 45s\n",
            "260:\ttest: 0.8567651\tbest: 0.8567651 (260)\ttotal: 1h 1m 1s\tremaining: 32m 30s\n",
            "270:\ttest: 0.8568627\tbest: 0.8568627 (270)\ttotal: 1h 3m 25s\tremaining: 30m 11s\n",
            "280:\ttest: 0.8569600\tbest: 0.8569600 (280)\ttotal: 1h 5m 51s\tremaining: 27m 53s\n",
            "290:\ttest: 0.8570411\tbest: 0.8570411 (290)\ttotal: 1h 8m 11s\tremaining: 25m 32s\n",
            "300:\ttest: 0.8571298\tbest: 0.8571298 (300)\ttotal: 1h 10m 30s\tremaining: 23m 11s\n",
            "310:\ttest: 0.8571964\tbest: 0.8571964 (310)\ttotal: 1h 12m 59s\tremaining: 20m 53s\n",
            "320:\ttest: 0.8572780\tbest: 0.8572780 (320)\ttotal: 1h 15m 29s\tremaining: 18m 34s\n",
            "330:\ttest: 0.8573386\tbest: 0.8573386 (330)\ttotal: 1h 17m 52s\tremaining: 16m 14s\n",
            "340:\ttest: 0.8573892\tbest: 0.8573892 (340)\ttotal: 1h 20m 17s\tremaining: 13m 53s\n",
            "350:\ttest: 0.8574419\tbest: 0.8574419 (350)\ttotal: 1h 22m 38s\tremaining: 11m 32s\n",
            "360:\ttest: 0.8575013\tbest: 0.8575013 (360)\ttotal: 1h 25m 5s\tremaining: 9m 11s\n",
            "370:\ttest: 0.8575479\tbest: 0.8575479 (370)\ttotal: 1h 27m 29s\tremaining: 6m 50s\n",
            "380:\ttest: 0.8575907\tbest: 0.8575907 (380)\ttotal: 1h 29m 48s\tremaining: 4m 28s\n",
            "390:\ttest: 0.8576365\tbest: 0.8576365 (390)\ttotal: 1h 32m 15s\tremaining: 2m 7s\n",
            "399:\ttest: 0.8576960\tbest: 0.8576960 (399)\ttotal: 1h 34m 20s\tremaining: 0us\n",
            "\n",
            "bestTest = 0.8576960418\n",
            "bestIteration = 399\n",
            "\n"
          ]
        },
        {
          "output_type": "execute_result",
          "data": {
            "text/plain": [
              "<catboost.core.CatBoostClassifier at 0x7d8416982170>"
            ]
          },
          "metadata": {},
          "execution_count": 13
        }
      ]
    },
    {
      "cell_type": "code",
      "source": [
        "feature_importances = model.feature_importances_\n",
        "sorted_importances = sorted(zip(X_train.columns, feature_importances), key=lambda x: x[1], reverse=True)\n",
        "\n",
        "# Print feature importances\n",
        "for feature, importance in sorted_importances:\n",
        "    print(f\"{feature}: {importance}\")"
      ],
      "metadata": {
        "colab": {
          "base_uri": "https://localhost:8080/"
        },
        "id": "2-oGxdUwXEcU",
        "outputId": "a9ac989d-dc67-4f8c-8a02-fb3b202fe08e"
      },
      "execution_count": null,
      "outputs": [
        {
          "output_type": "stream",
          "name": "stdout",
          "text": [
            "placement_id_hash: 28.817272306140065\n",
            "syndicator_id_hash: 14.287162611994459\n",
            "user_clicks: 14.167767277644225\n",
            "user_recs_per_click: 9.567106915112216\n",
            "campaign_id_hash: 8.924924211600826\n",
            "user_recs: 5.400145610729701\n",
            "publisher_id_hash: 4.0631025581115\n",
            "browser_platform: 2.900324585441087\n",
            "source_item_type: 1.6937088057632448\n",
            "os_family: 1.5290955349470383\n",
            "source_id_hash: 1.38828663042741\n",
            "target_id_hash: 1.2388893280630358\n",
            "empiric_clicks: 1.2101745203699419\n",
            "user_target_recs: 1.0145423040141879\n",
            "empiric_calibrated_recs: 0.9942744674034483\n",
            "target_item_taxonomy: 0.924302938771808\n",
            "day_of_week: 0.698482818097336\n",
            "page_view_start_time: 0.4361795138721836\n",
            "region: 0.3631559640037618\n",
            "time_of_day: 0.20706853973371056\n",
            "country_code: 0.1740325577587312\n"
          ]
        }
      ]
    },
    {
      "cell_type": "code",
      "source": [
        "clf = xgb.XGBClassifier(tree_method=\"hist\", enable_categorical=True)\n",
        "clf.fit(X_train, y_train)"
      ],
      "metadata": {
        "colab": {
          "base_uri": "https://localhost:8080/",
          "height": 249
        },
        "id": "l6v_l3u4JDPG",
        "outputId": "cba5b16a-f95c-4e04-ed51-eb21fbc742b0"
      },
      "execution_count": null,
      "outputs": [
        {
          "output_type": "execute_result",
          "data": {
            "text/plain": [
              "XGBClassifier(base_score=None, booster=None, callbacks=None,\n",
              "              colsample_bylevel=None, colsample_bynode=None,\n",
              "              colsample_bytree=None, device=None, early_stopping_rounds=None,\n",
              "              enable_categorical=True, eval_metric=None, feature_types=None,\n",
              "              gamma=None, grow_policy=None, importance_type=None,\n",
              "              interaction_constraints=None, learning_rate=None, max_bin=None,\n",
              "              max_cat_threshold=None, max_cat_to_onehot=None,\n",
              "              max_delta_step=None, max_depth=None, max_leaves=None,\n",
              "              min_child_weight=None, missing=nan, monotone_constraints=None,\n",
              "              multi_strategy=None, n_estimators=None, n_jobs=None,\n",
              "              num_parallel_tree=None, random_state=None, ...)"
            ],
            "text/html": [
              "<style>#sk-container-id-1 {color: black;background-color: white;}#sk-container-id-1 pre{padding: 0;}#sk-container-id-1 div.sk-toggleable {background-color: white;}#sk-container-id-1 label.sk-toggleable__label {cursor: pointer;display: block;width: 100%;margin-bottom: 0;padding: 0.3em;box-sizing: border-box;text-align: center;}#sk-container-id-1 label.sk-toggleable__label-arrow:before {content: \"▸\";float: left;margin-right: 0.25em;color: #696969;}#sk-container-id-1 label.sk-toggleable__label-arrow:hover:before {color: black;}#sk-container-id-1 div.sk-estimator:hover label.sk-toggleable__label-arrow:before {color: black;}#sk-container-id-1 div.sk-toggleable__content {max-height: 0;max-width: 0;overflow: hidden;text-align: left;background-color: #f0f8ff;}#sk-container-id-1 div.sk-toggleable__content pre {margin: 0.2em;color: black;border-radius: 0.25em;background-color: #f0f8ff;}#sk-container-id-1 input.sk-toggleable__control:checked~div.sk-toggleable__content {max-height: 200px;max-width: 100%;overflow: auto;}#sk-container-id-1 input.sk-toggleable__control:checked~label.sk-toggleable__label-arrow:before {content: \"▾\";}#sk-container-id-1 div.sk-estimator input.sk-toggleable__control:checked~label.sk-toggleable__label {background-color: #d4ebff;}#sk-container-id-1 div.sk-label input.sk-toggleable__control:checked~label.sk-toggleable__label {background-color: #d4ebff;}#sk-container-id-1 input.sk-hidden--visually {border: 0;clip: rect(1px 1px 1px 1px);clip: rect(1px, 1px, 1px, 1px);height: 1px;margin: -1px;overflow: hidden;padding: 0;position: absolute;width: 1px;}#sk-container-id-1 div.sk-estimator {font-family: monospace;background-color: #f0f8ff;border: 1px dotted black;border-radius: 0.25em;box-sizing: border-box;margin-bottom: 0.5em;}#sk-container-id-1 div.sk-estimator:hover {background-color: #d4ebff;}#sk-container-id-1 div.sk-parallel-item::after {content: \"\";width: 100%;border-bottom: 1px solid gray;flex-grow: 1;}#sk-container-id-1 div.sk-label:hover label.sk-toggleable__label {background-color: #d4ebff;}#sk-container-id-1 div.sk-serial::before {content: \"\";position: absolute;border-left: 1px solid gray;box-sizing: border-box;top: 0;bottom: 0;left: 50%;z-index: 0;}#sk-container-id-1 div.sk-serial {display: flex;flex-direction: column;align-items: center;background-color: white;padding-right: 0.2em;padding-left: 0.2em;position: relative;}#sk-container-id-1 div.sk-item {position: relative;z-index: 1;}#sk-container-id-1 div.sk-parallel {display: flex;align-items: stretch;justify-content: center;background-color: white;position: relative;}#sk-container-id-1 div.sk-item::before, #sk-container-id-1 div.sk-parallel-item::before {content: \"\";position: absolute;border-left: 1px solid gray;box-sizing: border-box;top: 0;bottom: 0;left: 50%;z-index: -1;}#sk-container-id-1 div.sk-parallel-item {display: flex;flex-direction: column;z-index: 1;position: relative;background-color: white;}#sk-container-id-1 div.sk-parallel-item:first-child::after {align-self: flex-end;width: 50%;}#sk-container-id-1 div.sk-parallel-item:last-child::after {align-self: flex-start;width: 50%;}#sk-container-id-1 div.sk-parallel-item:only-child::after {width: 0;}#sk-container-id-1 div.sk-dashed-wrapped {border: 1px dashed gray;margin: 0 0.4em 0.5em 0.4em;box-sizing: border-box;padding-bottom: 0.4em;background-color: white;}#sk-container-id-1 div.sk-label label {font-family: monospace;font-weight: bold;display: inline-block;line-height: 1.2em;}#sk-container-id-1 div.sk-label-container {text-align: center;}#sk-container-id-1 div.sk-container {/* jupyter's `normalize.less` sets `[hidden] { display: none; }` but bootstrap.min.css set `[hidden] { display: none !important; }` so we also need the `!important` here to be able to override the default hidden behavior on the sphinx rendered scikit-learn.org. See: https://github.com/scikit-learn/scikit-learn/issues/21755 */display: inline-block !important;position: relative;}#sk-container-id-1 div.sk-text-repr-fallback {display: none;}</style><div id=\"sk-container-id-1\" class=\"sk-top-container\"><div class=\"sk-text-repr-fallback\"><pre>XGBClassifier(base_score=None, booster=None, callbacks=None,\n",
              "              colsample_bylevel=None, colsample_bynode=None,\n",
              "              colsample_bytree=None, device=None, early_stopping_rounds=None,\n",
              "              enable_categorical=True, eval_metric=None, feature_types=None,\n",
              "              gamma=None, grow_policy=None, importance_type=None,\n",
              "              interaction_constraints=None, learning_rate=None, max_bin=None,\n",
              "              max_cat_threshold=None, max_cat_to_onehot=None,\n",
              "              max_delta_step=None, max_depth=None, max_leaves=None,\n",
              "              min_child_weight=None, missing=nan, monotone_constraints=None,\n",
              "              multi_strategy=None, n_estimators=None, n_jobs=None,\n",
              "              num_parallel_tree=None, random_state=None, ...)</pre><b>In a Jupyter environment, please rerun this cell to show the HTML representation or trust the notebook. <br />On GitHub, the HTML representation is unable to render, please try loading this page with nbviewer.org.</b></div><div class=\"sk-container\" hidden><div class=\"sk-item\"><div class=\"sk-estimator sk-toggleable\"><input class=\"sk-toggleable__control sk-hidden--visually\" id=\"sk-estimator-id-1\" type=\"checkbox\" checked><label for=\"sk-estimator-id-1\" class=\"sk-toggleable__label sk-toggleable__label-arrow\">XGBClassifier</label><div class=\"sk-toggleable__content\"><pre>XGBClassifier(base_score=None, booster=None, callbacks=None,\n",
              "              colsample_bylevel=None, colsample_bynode=None,\n",
              "              colsample_bytree=None, device=None, early_stopping_rounds=None,\n",
              "              enable_categorical=True, eval_metric=None, feature_types=None,\n",
              "              gamma=None, grow_policy=None, importance_type=None,\n",
              "              interaction_constraints=None, learning_rate=None, max_bin=None,\n",
              "              max_cat_threshold=None, max_cat_to_onehot=None,\n",
              "              max_delta_step=None, max_depth=None, max_leaves=None,\n",
              "              min_child_weight=None, missing=nan, monotone_constraints=None,\n",
              "              multi_strategy=None, n_estimators=None, n_jobs=None,\n",
              "              num_parallel_tree=None, random_state=None, ...)</pre></div></div></div></div></div>"
            ]
          },
          "metadata": {},
          "execution_count": 17
        }
      ]
    },
    {
      "cell_type": "code",
      "source": [
        "# Define parameters\n",
        "params = {\n",
        "    'objective': 'binary',  # or 'multiclass' for multiclass classification\n",
        "    'metric': 'binary_logloss',  # or other evaluation metrics\n",
        "    'learning_rate': 0.1,\n",
        "    'num_leaves': 31,\n",
        "    'max_depth': -1,\n",
        "    'min_child_samples': 20,\n",
        "    'subsample': 0.8,\n",
        "    'colsample_bytree': 0.8,\n",
        "    'n_estimators': 100,\n",
        "    'boosting_type': 'gbdt',  # Gradient Boosting Decision Tree\n",
        "    'random_state': 42\n",
        "}\n",
        "\n",
        "# Create and train the model\n",
        "lgb_model = lgb.LGBMClassifier(**params)\n",
        "lgb_model.fit(X_train, y_train)"
      ],
      "metadata": {
        "colab": {
          "base_uri": "https://localhost:8080/",
          "height": 249
        },
        "id": "7ZmeIEN4dpiM",
        "outputId": "2a21adc7-f3d6-4a8b-94a3-00f02d298586"
      },
      "execution_count": null,
      "outputs": [
        {
          "output_type": "stream",
          "name": "stdout",
          "text": [
            "[LightGBM] [Warning] Categorical features with more bins than the configured maximum bin number found.\n",
            "[LightGBM] [Warning] For categorical features, max_bin and max_bin_by_feature may be ignored with a large number of categories.\n",
            "[LightGBM] [Info] Number of positive: 1420219, number of negative: 1419763\n",
            "[LightGBM] [Info] Auto-choosing col-wise multi-threading, the overhead of testing was 0.748197 seconds.\n",
            "You can set `force_col_wise=true` to remove the overhead.\n",
            "[LightGBM] [Info] Total Bins 23118\n",
            "[LightGBM] [Info] Number of data points in the train set: 2839982, number of used features: 21\n",
            "[LightGBM] [Info] [binary:BoostFromScore]: pavg=0.500080 -> initscore=0.000321\n",
            "[LightGBM] [Info] Start training from score 0.000321\n"
          ]
        },
        {
          "output_type": "execute_result",
          "data": {
            "text/plain": [
              "LGBMClassifier(colsample_bytree=0.8, metric='binary_logloss',\n",
              "               objective='binary', random_state=42, subsample=0.8)"
            ],
            "text/html": [
              "<style>#sk-container-id-2 {color: black;background-color: white;}#sk-container-id-2 pre{padding: 0;}#sk-container-id-2 div.sk-toggleable {background-color: white;}#sk-container-id-2 label.sk-toggleable__label {cursor: pointer;display: block;width: 100%;margin-bottom: 0;padding: 0.3em;box-sizing: border-box;text-align: center;}#sk-container-id-2 label.sk-toggleable__label-arrow:before {content: \"▸\";float: left;margin-right: 0.25em;color: #696969;}#sk-container-id-2 label.sk-toggleable__label-arrow:hover:before {color: black;}#sk-container-id-2 div.sk-estimator:hover label.sk-toggleable__label-arrow:before {color: black;}#sk-container-id-2 div.sk-toggleable__content {max-height: 0;max-width: 0;overflow: hidden;text-align: left;background-color: #f0f8ff;}#sk-container-id-2 div.sk-toggleable__content pre {margin: 0.2em;color: black;border-radius: 0.25em;background-color: #f0f8ff;}#sk-container-id-2 input.sk-toggleable__control:checked~div.sk-toggleable__content {max-height: 200px;max-width: 100%;overflow: auto;}#sk-container-id-2 input.sk-toggleable__control:checked~label.sk-toggleable__label-arrow:before {content: \"▾\";}#sk-container-id-2 div.sk-estimator input.sk-toggleable__control:checked~label.sk-toggleable__label {background-color: #d4ebff;}#sk-container-id-2 div.sk-label input.sk-toggleable__control:checked~label.sk-toggleable__label {background-color: #d4ebff;}#sk-container-id-2 input.sk-hidden--visually {border: 0;clip: rect(1px 1px 1px 1px);clip: rect(1px, 1px, 1px, 1px);height: 1px;margin: -1px;overflow: hidden;padding: 0;position: absolute;width: 1px;}#sk-container-id-2 div.sk-estimator {font-family: monospace;background-color: #f0f8ff;border: 1px dotted black;border-radius: 0.25em;box-sizing: border-box;margin-bottom: 0.5em;}#sk-container-id-2 div.sk-estimator:hover {background-color: #d4ebff;}#sk-container-id-2 div.sk-parallel-item::after {content: \"\";width: 100%;border-bottom: 1px solid gray;flex-grow: 1;}#sk-container-id-2 div.sk-label:hover label.sk-toggleable__label {background-color: #d4ebff;}#sk-container-id-2 div.sk-serial::before {content: \"\";position: absolute;border-left: 1px solid gray;box-sizing: border-box;top: 0;bottom: 0;left: 50%;z-index: 0;}#sk-container-id-2 div.sk-serial {display: flex;flex-direction: column;align-items: center;background-color: white;padding-right: 0.2em;padding-left: 0.2em;position: relative;}#sk-container-id-2 div.sk-item {position: relative;z-index: 1;}#sk-container-id-2 div.sk-parallel {display: flex;align-items: stretch;justify-content: center;background-color: white;position: relative;}#sk-container-id-2 div.sk-item::before, #sk-container-id-2 div.sk-parallel-item::before {content: \"\";position: absolute;border-left: 1px solid gray;box-sizing: border-box;top: 0;bottom: 0;left: 50%;z-index: -1;}#sk-container-id-2 div.sk-parallel-item {display: flex;flex-direction: column;z-index: 1;position: relative;background-color: white;}#sk-container-id-2 div.sk-parallel-item:first-child::after {align-self: flex-end;width: 50%;}#sk-container-id-2 div.sk-parallel-item:last-child::after {align-self: flex-start;width: 50%;}#sk-container-id-2 div.sk-parallel-item:only-child::after {width: 0;}#sk-container-id-2 div.sk-dashed-wrapped {border: 1px dashed gray;margin: 0 0.4em 0.5em 0.4em;box-sizing: border-box;padding-bottom: 0.4em;background-color: white;}#sk-container-id-2 div.sk-label label {font-family: monospace;font-weight: bold;display: inline-block;line-height: 1.2em;}#sk-container-id-2 div.sk-label-container {text-align: center;}#sk-container-id-2 div.sk-container {/* jupyter's `normalize.less` sets `[hidden] { display: none; }` but bootstrap.min.css set `[hidden] { display: none !important; }` so we also need the `!important` here to be able to override the default hidden behavior on the sphinx rendered scikit-learn.org. See: https://github.com/scikit-learn/scikit-learn/issues/21755 */display: inline-block !important;position: relative;}#sk-container-id-2 div.sk-text-repr-fallback {display: none;}</style><div id=\"sk-container-id-2\" class=\"sk-top-container\"><div class=\"sk-text-repr-fallback\"><pre>LGBMClassifier(colsample_bytree=0.8, metric=&#x27;binary_logloss&#x27;,\n",
              "               objective=&#x27;binary&#x27;, random_state=42, subsample=0.8)</pre><b>In a Jupyter environment, please rerun this cell to show the HTML representation or trust the notebook. <br />On GitHub, the HTML representation is unable to render, please try loading this page with nbviewer.org.</b></div><div class=\"sk-container\" hidden><div class=\"sk-item\"><div class=\"sk-estimator sk-toggleable\"><input class=\"sk-toggleable__control sk-hidden--visually\" id=\"sk-estimator-id-2\" type=\"checkbox\" checked><label for=\"sk-estimator-id-2\" class=\"sk-toggleable__label sk-toggleable__label-arrow\">LGBMClassifier</label><div class=\"sk-toggleable__content\"><pre>LGBMClassifier(colsample_bytree=0.8, metric=&#x27;binary_logloss&#x27;,\n",
              "               objective=&#x27;binary&#x27;, random_state=42, subsample=0.8)</pre></div></div></div></div></div>"
            ]
          },
          "metadata": {},
          "execution_count": 18
        }
      ]
    },
    {
      "cell_type": "code",
      "source": [
        "predictions_a = clf.predict_proba(test)\n",
        "predictions_b = model.predict_proba(test)\n",
        "predictions_c = lgb_model.predict_proba(test)\n",
        "\n",
        "predictions = (predictions_a[:,1] + predictions_b[:,1] +  predictions_c[:,1]) /3"
      ],
      "metadata": {
        "id": "anYvG2gmnLA6"
      },
      "execution_count": null,
      "outputs": []
    },
    {
      "cell_type": "code",
      "source": [
        "ids = np.arange(test.shape[0])"
      ],
      "metadata": {
        "id": "L6KTCXTgm1PK"
      },
      "execution_count": null,
      "outputs": []
    },
    {
      "cell_type": "code",
      "source": [
        "new_df = pd.DataFrame({\n",
        "    'Id': ids ,\n",
        "    'Predicted': predictions\n",
        "})"
      ],
      "metadata": {
        "id": "bCkf5JP4m1K3"
      },
      "execution_count": null,
      "outputs": []
    },
    {
      "cell_type": "code",
      "source": [
        "new_df.to_csv('Predicted_Taboola_CTR.csv', index=False)"
      ],
      "metadata": {
        "id": "zlXiwE9Fm1Hj"
      },
      "execution_count": null,
      "outputs": []
    }
  ],
  "metadata": {
    "colab": {
      "provenance": []
    },
    "kernelspec": {
      "display_name": "Python 3",
      "name": "python3"
    }
  },
  "nbformat": 4,
  "nbformat_minor": 0
}